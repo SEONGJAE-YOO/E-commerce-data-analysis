{
 "cells": [
  {
   "cell_type": "code",
   "execution_count": 1,
   "id": "2fed20b8",
   "metadata": {},
   "outputs": [],
   "source": [
    "import pandas as pd"
   ]
  },
  {
   "cell_type": "code",
   "execution_count": 2,
   "id": "fe4b0b82",
   "metadata": {},
   "outputs": [],
   "source": [
    "data = pd.read_csv('galaxy.csv')"
   ]
  },
  {
   "cell_type": "code",
   "execution_count": 3,
   "id": "1c1c07ae",
   "metadata": {},
   "outputs": [
    {
     "data": {
      "text/html": [
       "<div>\n",
       "<style scoped>\n",
       "    .dataframe tbody tr th:only-of-type {\n",
       "        vertical-align: middle;\n",
       "    }\n",
       "\n",
       "    .dataframe tbody tr th {\n",
       "        vertical-align: top;\n",
       "    }\n",
       "\n",
       "    .dataframe thead th {\n",
       "        text-align: right;\n",
       "    }\n",
       "</style>\n",
       "<table border=\"1\" class=\"dataframe\">\n",
       "  <thead>\n",
       "    <tr style=\"text-align: right;\">\n",
       "      <th></th>\n",
       "      <th>BuyItNow</th>\n",
       "      <th>startprice</th>\n",
       "      <th>carrier</th>\n",
       "      <th>color</th>\n",
       "      <th>productline</th>\n",
       "      <th>noDescription</th>\n",
       "      <th>charCountDescription</th>\n",
       "      <th>upperCaseDescription</th>\n",
       "      <th>sold</th>\n",
       "    </tr>\n",
       "  </thead>\n",
       "  <tbody>\n",
       "    <tr>\n",
       "      <th>0</th>\n",
       "      <td>0</td>\n",
       "      <td>199.99</td>\n",
       "      <td>None</td>\n",
       "      <td>White</td>\n",
       "      <td>Galaxy_S9</td>\n",
       "      <td>contains description</td>\n",
       "      <td>0</td>\n",
       "      <td>0</td>\n",
       "      <td>1</td>\n",
       "    </tr>\n",
       "    <tr>\n",
       "      <th>1</th>\n",
       "      <td>0</td>\n",
       "      <td>235.00</td>\n",
       "      <td>None</td>\n",
       "      <td>NaN</td>\n",
       "      <td>Galaxy_Note9</td>\n",
       "      <td>contains description</td>\n",
       "      <td>0</td>\n",
       "      <td>0</td>\n",
       "      <td>0</td>\n",
       "    </tr>\n",
       "    <tr>\n",
       "      <th>2</th>\n",
       "      <td>0</td>\n",
       "      <td>199.99</td>\n",
       "      <td>NaN</td>\n",
       "      <td>NaN</td>\n",
       "      <td>Unknown</td>\n",
       "      <td>no description</td>\n",
       "      <td>100</td>\n",
       "      <td>2</td>\n",
       "      <td>0</td>\n",
       "    </tr>\n",
       "    <tr>\n",
       "      <th>3</th>\n",
       "      <td>1</td>\n",
       "      <td>175.00</td>\n",
       "      <td>AT&amp;T</td>\n",
       "      <td>Space Gray</td>\n",
       "      <td>Galaxy_Note9</td>\n",
       "      <td>contains description</td>\n",
       "      <td>0</td>\n",
       "      <td>0</td>\n",
       "      <td>1</td>\n",
       "    </tr>\n",
       "    <tr>\n",
       "      <th>4</th>\n",
       "      <td>1</td>\n",
       "      <td>100.00</td>\n",
       "      <td>None</td>\n",
       "      <td>Space Gray</td>\n",
       "      <td>Galaxy_S8</td>\n",
       "      <td>contains description</td>\n",
       "      <td>0</td>\n",
       "      <td>0</td>\n",
       "      <td>1</td>\n",
       "    </tr>\n",
       "  </tbody>\n",
       "</table>\n",
       "</div>"
      ],
      "text/plain": [
       "   BuyItNow  startprice carrier       color   productline  \\\n",
       "0         0      199.99    None       White     Galaxy_S9   \n",
       "1         0      235.00    None         NaN  Galaxy_Note9   \n",
       "2         0      199.99     NaN         NaN       Unknown   \n",
       "3         1      175.00    AT&T  Space Gray  Galaxy_Note9   \n",
       "4         1      100.00    None  Space Gray     Galaxy_S8   \n",
       "\n",
       "          noDescription  charCountDescription  upperCaseDescription  sold  \n",
       "0  contains description                     0                     0     1  \n",
       "1  contains description                     0                     0     0  \n",
       "2        no description                   100                     2     0  \n",
       "3  contains description                     0                     0     1  \n",
       "4  contains description                     0                     0     1  "
      ]
     },
     "execution_count": 3,
     "metadata": {},
     "output_type": "execute_result"
    }
   ],
   "source": [
    "data.head()"
   ]
  },
  {
   "cell_type": "code",
   "execution_count": 4,
   "id": "224a87d8",
   "metadata": {},
   "outputs": [],
   "source": [
    "def price(x):\n",
    "    if x % 1 == 0:\n",
    "        return x * 100\n",
    "    else:\n",
    "        return (x + 0.01) * 100"
   ]
  },
  {
   "cell_type": "code",
   "execution_count": 7,
   "id": "2febefa2",
   "metadata": {},
   "outputs": [
    {
     "data": {
      "text/plain": [
       "10000.0"
      ]
     },
     "execution_count": 7,
     "metadata": {},
     "output_type": "execute_result"
    }
   ],
   "source": [
    "price(99.99)"
   ]
  },
  {
   "cell_type": "code",
   "execution_count": 9,
   "id": "644ae416",
   "metadata": {},
   "outputs": [
    {
     "data": {
      "text/plain": [
       "0       20000.0\n",
       "1       23500.0\n",
       "2       20000.0\n",
       "3       17500.0\n",
       "4       10000.0\n",
       "         ...   \n",
       "1480     8951.0\n",
       "1481    23996.0\n",
       "1482    33000.0\n",
       "1483     8900.0\n",
       "1484    12000.0\n",
       "Name: startprice, Length: 1485, dtype: float64"
      ]
     },
     "execution_count": 9,
     "metadata": {},
     "output_type": "execute_result"
    }
   ],
   "source": [
    "data['startprice'].apply(lambda x: price(x)) #람다 표현식으로 함수 만들기"
   ]
  },
  {
   "cell_type": "code",
   "execution_count": 10,
   "id": "24e45de4",
   "metadata": {},
   "outputs": [
    {
     "data": {
      "text/plain": [
       "0       20000.0\n",
       "1       23500.0\n",
       "2       20000.0\n",
       "3       17500.0\n",
       "4       10000.0\n",
       "         ...   \n",
       "1480     8951.0\n",
       "1481    23996.0\n",
       "1482    33000.0\n",
       "1483     8900.0\n",
       "1484    12000.0\n",
       "Length: 1485, dtype: float64"
      ]
     },
     "execution_count": 10,
     "metadata": {},
     "output_type": "execute_result"
    }
   ],
   "source": [
    "data.apply(lambda x: price(x['startprice']), axis = 1) # axis 꼭 추가해야 함"
   ]
  },
  {
   "cell_type": "code",
   "execution_count": 21,
   "id": "5e7a19bf",
   "metadata": {},
   "outputs": [],
   "source": [
    "def name(x):\n",
    "    if x > 10:\n",
    "        x + 10\n",
    "    else:\n",
    "        x - 10"
   ]
  },
  {
   "cell_type": "code",
   "execution_count": 22,
   "id": "2f38a8b1",
   "metadata": {},
   "outputs": [
    {
     "data": {
      "text/plain": [
       "0       None\n",
       "1       None\n",
       "2       None\n",
       "3       None\n",
       "4       None\n",
       "        ... \n",
       "1480    None\n",
       "1481    None\n",
       "1482    None\n",
       "1483    None\n",
       "1484    None\n",
       "Name: startprice, Length: 1485, dtype: object"
      ]
     },
     "execution_count": 22,
     "metadata": {},
     "output_type": "execute_result"
    }
   ],
   "source": [
    "data['startprice'].apply(lambda x: name(x))"
   ]
  },
  {
   "cell_type": "code",
   "execution_count": 13,
   "id": "d3db40e8",
   "metadata": {
    "scrolled": true
   },
   "outputs": [
    {
     "data": {
      "text/plain": [
       "0       209.99\n",
       "1       245.00\n",
       "2       209.99\n",
       "3       185.00\n",
       "4       110.00\n",
       "         ...  \n",
       "1480     99.50\n",
       "1481    249.95\n",
       "1482    339.99\n",
       "1483     99.00\n",
       "1484    129.99\n",
       "Name: startprice, Length: 1485, dtype: float64"
      ]
     },
     "execution_count": 13,
     "metadata": {},
     "output_type": "execute_result"
    }
   ],
   "source": [
    "data['startprice'].apply(lambda x: x+10 if x > 10 else x - 10)"
   ]
  },
  {
   "cell_type": "code",
   "execution_count": 17,
   "id": "c8a6fb92",
   "metadata": {},
   "outputs": [],
   "source": [
    "def price(x):\n",
    "    if x % 1 == 0:\n",
    "        return x * 100\n",
    "    else:\n",
    "        return (x + 0.01) * 100"
   ]
  },
  {
   "cell_type": "code",
   "execution_count": 18,
   "id": "32f06788",
   "metadata": {},
   "outputs": [
    {
     "data": {
      "text/plain": [
       "0       20000.0\n",
       "1       23500.0\n",
       "2       20000.0\n",
       "3       17500.0\n",
       "4       10000.0\n",
       "         ...   \n",
       "1480     8951.0\n",
       "1481    23996.0\n",
       "1482    33000.0\n",
       "1483     8900.0\n",
       "1484    12000.0\n",
       "Name: startprice, Length: 1485, dtype: float64"
      ]
     },
     "execution_count": 18,
     "metadata": {},
     "output_type": "execute_result"
    }
   ],
   "source": [
    "data['startprice'].apply(lambda x: x * 100 if x % 1 == 0 else (x + 0.01) * 100)"
   ]
  },
  {
   "cell_type": "code",
   "execution_count": 19,
   "id": "14c2a424",
   "metadata": {},
   "outputs": [
    {
     "data": {
      "text/plain": [
       "0       199.99\n",
       "1       235.00\n",
       "2       199.99\n",
       "3       175.00\n",
       "4       100.00\n",
       "         ...  \n",
       "1480     89.50\n",
       "1481    239.95\n",
       "1482    329.99\n",
       "1483     89.00\n",
       "1484    119.99\n",
       "Name: startprice, Length: 1485, dtype: float64"
      ]
     },
     "execution_count": 19,
     "metadata": {},
     "output_type": "execute_result"
    }
   ],
   "source": [
    "data['startprice']"
   ]
  },
  {
   "cell_type": "code",
   "execution_count": 20,
   "id": "6af9de5a",
   "metadata": {},
   "outputs": [
    {
     "data": {
      "text/plain": [
       "0       100\n",
       "1       200\n",
       "2       100\n",
       "3       100\n",
       "4         0\n",
       "       ... \n",
       "1480      0\n",
       "1481    200\n",
       "1482    200\n",
       "1483      0\n",
       "1484    100\n",
       "Name: startprice, Length: 1485, dtype: int64"
      ]
     },
     "execution_count": 20,
     "metadata": {},
     "output_type": "execute_result"
    }
   ],
   "source": [
    "data['startprice'].apply(lambda x: 200 if x > 200 else (100 if x >100 else 0) ) "
   ]
  }
 ],
 "metadata": {
  "kernelspec": {
   "display_name": "Python 3",
   "language": "python",
   "name": "python3"
  },
  "language_info": {
   "codemirror_mode": {
    "name": "ipython",
    "version": 3
   },
   "file_extension": ".py",
   "mimetype": "text/x-python",
   "name": "python",
   "nbconvert_exporter": "python",
   "pygments_lexer": "ipython3",
   "version": "3.8.5"
  },
  "toc": {
   "base_numbering": 1,
   "nav_menu": {},
   "number_sections": true,
   "sideBar": true,
   "skip_h1_title": false,
   "title_cell": "Table of Contents",
   "title_sidebar": "Contents",
   "toc_cell": false,
   "toc_position": {},
   "toc_section_display": true,
   "toc_window_display": false
  }
 },
 "nbformat": 4,
 "nbformat_minor": 5
}
