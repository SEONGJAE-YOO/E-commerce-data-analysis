{
 "cells": [
  {
   "cell_type": "markdown",
   "id": "176c3ce2",
   "metadata": {},
   "source": [
    "# 나이브 베이즈 모델을 통한 예측 모델 구축"
   ]
  },
  {
   "cell_type": "markdown",
   "id": "6a900742",
   "metadata": {},
   "source": [
    "- 각 변수가 독립적이라는 가정(속도가 빠르다)\n",
    "- n(관측치 갯수) < p(컬럼의 갯수),유용하게 쓰임\n",
    "- 딥러닝을 제외하면,텍스트 데이터에 가장 적합\n",
    "  (스팸 메일 필터링,감정 분석)"
   ]
  },
  {
   "cell_type": "code",
   "execution_count": 1,
   "id": "95b93eb8",
   "metadata": {},
   "outputs": [],
   "source": [
    "import pandas as pd\n",
    "import numpy as np"
   ]
  },
  {
   "cell_type": "code",
   "execution_count": 2,
   "id": "9f387326",
   "metadata": {},
   "outputs": [],
   "source": [
    "data = pd.read_csv('yelp.csv',index_col=0)"
   ]
  },
  {
   "cell_type": "code",
   "execution_count": 3,
   "id": "dea94320",
   "metadata": {},
   "outputs": [
    {
     "data": {
      "text/html": [
       "<div>\n",
       "<style scoped>\n",
       "    .dataframe tbody tr th:only-of-type {\n",
       "        vertical-align: middle;\n",
       "    }\n",
       "\n",
       "    .dataframe tbody tr th {\n",
       "        vertical-align: top;\n",
       "    }\n",
       "\n",
       "    .dataframe thead th {\n",
       "        text-align: right;\n",
       "    }\n",
       "</style>\n",
       "<table border=\"1\" class=\"dataframe\">\n",
       "  <thead>\n",
       "    <tr style=\"text-align: right;\">\n",
       "      <th></th>\n",
       "      <th>review_id</th>\n",
       "      <th>user_id</th>\n",
       "      <th>business_id</th>\n",
       "      <th>stars</th>\n",
       "      <th>date</th>\n",
       "      <th>text</th>\n",
       "      <th>useful</th>\n",
       "      <th>funny</th>\n",
       "      <th>cool</th>\n",
       "    </tr>\n",
       "  </thead>\n",
       "  <tbody>\n",
       "    <tr>\n",
       "      <th>2967245</th>\n",
       "      <td>aMleVK0lQcOSNCs56_gSbg</td>\n",
       "      <td>miHaLnLanDKfZqZHet0uWw</td>\n",
       "      <td>Xp_cWXY5rxDLkX-wqUg-iQ</td>\n",
       "      <td>5</td>\n",
       "      <td>2015-09-30</td>\n",
       "      <td>LOVE the cheeses here.  They are worth the pri...</td>\n",
       "      <td>0</td>\n",
       "      <td>0</td>\n",
       "      <td>1</td>\n",
       "    </tr>\n",
       "    <tr>\n",
       "      <th>4773684</th>\n",
       "      <td>Hs1f--t9JnVKW9A1U2uhKA</td>\n",
       "      <td>r_RUQSGZcd5bSgmTcS5IfQ</td>\n",
       "      <td>NuGZD3yBVqzpY1HuzT26mQ</td>\n",
       "      <td>5</td>\n",
       "      <td>2015-06-04</td>\n",
       "      <td>This has become our go-to sushi place. The sus...</td>\n",
       "      <td>0</td>\n",
       "      <td>0</td>\n",
       "      <td>0</td>\n",
       "    </tr>\n",
       "    <tr>\n",
       "      <th>1139855</th>\n",
       "      <td>i7aiPgNrNaFoM8J_j2OSyQ</td>\n",
       "      <td>zz7lojg6QdZbKFCJiHsj7w</td>\n",
       "      <td>ii8sAGBexBOJoYRFafF9XQ</td>\n",
       "      <td>1</td>\n",
       "      <td>2016-07-03</td>\n",
       "      <td>I was very disappointed with the hotel. The re...</td>\n",
       "      <td>2</td>\n",
       "      <td>1</td>\n",
       "      <td>1</td>\n",
       "    </tr>\n",
       "    <tr>\n",
       "      <th>3997153</th>\n",
       "      <td>uft6iMwNQh4I2UDpmbXggA</td>\n",
       "      <td>p_oXN3L9oi8nmmJigf8c9Q</td>\n",
       "      <td>r0j4IpUbcdC1-HfoMYae4w</td>\n",
       "      <td>5</td>\n",
       "      <td>2016-10-15</td>\n",
       "      <td>Love this place - super amazing - staff here i...</td>\n",
       "      <td>0</td>\n",
       "      <td>0</td>\n",
       "      <td>0</td>\n",
       "    </tr>\n",
       "    <tr>\n",
       "      <th>4262000</th>\n",
       "      <td>y9QmJ16mrfBZS6Td6Yqo0g</td>\n",
       "      <td>jovtGPaHAqP6XfG9BFwY7A</td>\n",
       "      <td>j6UwIfXrSkGTdVkRu7K6WA</td>\n",
       "      <td>5</td>\n",
       "      <td>2017-03-14</td>\n",
       "      <td>Thank you Dana!!!! Having dyed my hair black p...</td>\n",
       "      <td>0</td>\n",
       "      <td>0</td>\n",
       "      <td>0</td>\n",
       "    </tr>\n",
       "  </tbody>\n",
       "</table>\n",
       "</div>"
      ],
      "text/plain": [
       "                      review_id                 user_id  \\\n",
       "2967245  aMleVK0lQcOSNCs56_gSbg  miHaLnLanDKfZqZHet0uWw   \n",
       "4773684  Hs1f--t9JnVKW9A1U2uhKA  r_RUQSGZcd5bSgmTcS5IfQ   \n",
       "1139855  i7aiPgNrNaFoM8J_j2OSyQ  zz7lojg6QdZbKFCJiHsj7w   \n",
       "3997153  uft6iMwNQh4I2UDpmbXggA  p_oXN3L9oi8nmmJigf8c9Q   \n",
       "4262000  y9QmJ16mrfBZS6Td6Yqo0g  jovtGPaHAqP6XfG9BFwY7A   \n",
       "\n",
       "                    business_id  stars        date  \\\n",
       "2967245  Xp_cWXY5rxDLkX-wqUg-iQ      5  2015-09-30   \n",
       "4773684  NuGZD3yBVqzpY1HuzT26mQ      5  2015-06-04   \n",
       "1139855  ii8sAGBexBOJoYRFafF9XQ      1  2016-07-03   \n",
       "3997153  r0j4IpUbcdC1-HfoMYae4w      5  2016-10-15   \n",
       "4262000  j6UwIfXrSkGTdVkRu7K6WA      5  2017-03-14   \n",
       "\n",
       "                                                      text  useful  funny  \\\n",
       "2967245  LOVE the cheeses here.  They are worth the pri...       0      0   \n",
       "4773684  This has become our go-to sushi place. The sus...       0      0   \n",
       "1139855  I was very disappointed with the hotel. The re...       2      1   \n",
       "3997153  Love this place - super amazing - staff here i...       0      0   \n",
       "4262000  Thank you Dana!!!! Having dyed my hair black p...       0      0   \n",
       "\n",
       "         cool  \n",
       "2967245     1  \n",
       "4773684     0  \n",
       "1139855     1  \n",
       "3997153     0  \n",
       "4262000     0  "
      ]
     },
     "execution_count": 3,
     "metadata": {},
     "output_type": "execute_result"
    }
   ],
   "source": [
    "data.head()"
   ]
  },
  {
   "cell_type": "code",
   "execution_count": 4,
   "id": "25115e0a",
   "metadata": {},
   "outputs": [],
   "source": [
    "X = data['text']\n",
    "y = data['stars']"
   ]
  },
  {
   "cell_type": "markdown",
   "id": "f7a0a4da",
   "metadata": {},
   "source": [
    "- CountVectorizer\n",
    "   단어들의 카운트(출현 빈도(frequency))로 여러 문서들을 벡터화\n",
    "   카운트 행렬, 단어 문서 행렬 (Term-Document Matrix, TDM))\n",
    "   모두 소문자로 변환시키기 때문에 me 와 Me 는 모두 같은 특성이 된다."
   ]
  },
  {
   "cell_type": "code",
   "execution_count": 5,
   "id": "582fef32",
   "metadata": {},
   "outputs": [],
   "source": [
    "from sklearn.feature_extraction.text import CountVectorizer "
   ]
  },
  {
   "cell_type": "code",
   "execution_count": 6,
   "id": "a3278344",
   "metadata": {},
   "outputs": [],
   "source": [
    "cv = CountVectorizer()"
   ]
  },
  {
   "cell_type": "code",
   "execution_count": 7,
   "id": "5498be78",
   "metadata": {},
   "outputs": [
    {
     "data": {
      "text/plain": [
       "CountVectorizer()"
      ]
     },
     "execution_count": 7,
     "metadata": {},
     "output_type": "execute_result"
    }
   ],
   "source": [
    "cv.fit(X)"
   ]
  },
  {
   "cell_type": "code",
   "execution_count": 8,
   "id": "265eff60",
   "metadata": {},
   "outputs": [],
   "source": [
    "X = cv.transform(X)"
   ]
  },
  {
   "cell_type": "code",
   "execution_count": 10,
   "id": "d287cdb4",
   "metadata": {},
   "outputs": [
    {
     "data": {
      "text/plain": [
       "'and'"
      ]
     },
     "execution_count": 10,
     "metadata": {},
     "output_type": "execute_result"
    }
   ],
   "source": [
    "cv.get_feature_names()[1580]"
   ]
  },
  {
   "cell_type": "code",
   "execution_count": 11,
   "id": "749d801b",
   "metadata": {},
   "outputs": [],
   "source": [
    "from sklearn.model_selection import train_test_split"
   ]
  },
  {
   "cell_type": "code",
   "execution_count": 13,
   "id": "2437b380",
   "metadata": {},
   "outputs": [],
   "source": [
    "X_train,X_test, y_train,y_test = train_test_split(X,y,test_size=0.2,random_state = 100)"
   ]
  },
  {
   "cell_type": "markdown",
   "id": "0f1bdf11",
   "metadata": {},
   "source": [
    "- Naive Bayes Classifier\n",
    "  \n",
    "  Bayes theorem 에서 유도됨\n",
    "  \n",
    "  베이즈 정리란?\n",
    "  \n",
    "  사후 확률 = 가능성 * 사전 확률 / 개체가 발생할 확률"
   ]
  },
  {
   "cell_type": "code",
   "execution_count": 14,
   "id": "effb0b9b",
   "metadata": {},
   "outputs": [],
   "source": [
    "from sklearn.naive_bayes import MultinomialNB"
   ]
  },
  {
   "cell_type": "code",
   "execution_count": 16,
   "id": "3bcf4c90",
   "metadata": {},
   "outputs": [],
   "source": [
    "model = MultinomialNB()"
   ]
  },
  {
   "cell_type": "code",
   "execution_count": 17,
   "id": "ccc57184",
   "metadata": {},
   "outputs": [
    {
     "data": {
      "text/plain": [
       "MultinomialNB()"
      ]
     },
     "execution_count": 17,
     "metadata": {},
     "output_type": "execute_result"
    }
   ],
   "source": [
    "model.fit(X_train, y_train)"
   ]
  },
  {
   "cell_type": "code",
   "execution_count": 18,
   "id": "7de7b6af",
   "metadata": {},
   "outputs": [],
   "source": [
    "pred = model.predict(X_test)"
   ]
  },
  {
   "cell_type": "code",
   "execution_count": 19,
   "id": "98ad1103",
   "metadata": {},
   "outputs": [
    {
     "data": {
      "text/plain": [
       "array([5, 5, 5, ..., 1, 5, 1], dtype=int64)"
      ]
     },
     "execution_count": 19,
     "metadata": {},
     "output_type": "execute_result"
    }
   ],
   "source": [
    "pred"
   ]
  },
  {
   "cell_type": "code",
   "execution_count": 20,
   "id": "8294ecb6",
   "metadata": {},
   "outputs": [
    {
     "data": {
      "text/plain": [
       "1373705    5\n",
       "3128713    5\n",
       "212088     1\n",
       "1622136    5\n",
       "2380124    5\n",
       "          ..\n",
       "3548316    5\n",
       "38943      5\n",
       "2423674    1\n",
       "1564863    5\n",
       "3629333    1\n",
       "Name: stars, Length: 2000, dtype: int64"
      ]
     },
     "execution_count": 20,
     "metadata": {},
     "output_type": "execute_result"
    }
   ],
   "source": [
    "y_test"
   ]
  },
  {
   "cell_type": "code",
   "execution_count": 21,
   "id": "b8197e82",
   "metadata": {},
   "outputs": [],
   "source": [
    "from sklearn.metrics import accuracy_score,confusion_matrix,classification_report"
   ]
  },
  {
   "cell_type": "code",
   "execution_count": 22,
   "id": "a9434e96",
   "metadata": {},
   "outputs": [
    {
     "data": {
      "text/plain": [
       "0.9265"
      ]
     },
     "execution_count": 22,
     "metadata": {},
     "output_type": "execute_result"
    }
   ],
   "source": [
    "accuracy_score(y_test, pred)"
   ]
  },
  {
   "cell_type": "code",
   "execution_count": 23,
   "id": "983e2dd7",
   "metadata": {},
   "outputs": [
    {
     "data": {
      "text/plain": [
       "array([[ 421,   65],\n",
       "       [  82, 1432]], dtype=int64)"
      ]
     },
     "execution_count": 23,
     "metadata": {},
     "output_type": "execute_result"
    }
   ],
   "source": [
    "confusion_matrix(y_test,pred)"
   ]
  },
  {
   "cell_type": "code",
   "execution_count": 24,
   "id": "714b78a9",
   "metadata": {},
   "outputs": [
    {
     "name": "stdout",
     "output_type": "stream",
     "text": [
      "              precision    recall  f1-score   support\n",
      "\n",
      "           1       0.84      0.87      0.85       486\n",
      "           5       0.96      0.95      0.95      1514\n",
      "\n",
      "    accuracy                           0.93      2000\n",
      "   macro avg       0.90      0.91      0.90      2000\n",
      "weighted avg       0.93      0.93      0.93      2000\n",
      "\n"
     ]
    }
   ],
   "source": [
    "print(classification_report(y_test,pred))"
   ]
  },
  {
   "cell_type": "markdown",
   "id": "58c49ae5",
   "metadata": {},
   "source": [
    "- 랜덤 포레스트는 결정트리를 기반하여 만들어졌다 \n",
    "  RandomForest는 Bagging 기법에 학습 모델의 분산을 줄이기 위해서, 변수까지 특정 개수로 무작위 추출을 하는 방법으로 학습을 진행한다. RandomForest는 Tree기반의 앙상블 기법으로 sklearn을 통해 간단하게 구현이 가능하다. 그럼에도 불구하고, 보통 좋은 성능을 갖는다고 알려져있다. \n",
    "  "
   ]
  },
  {
   "cell_type": "code",
   "execution_count": 35,
   "id": "73d3a675",
   "metadata": {},
   "outputs": [],
   "source": [
    "from sklearn.ensemble import RandomForestClassifier"
   ]
  },
  {
   "cell_type": "code",
   "execution_count": 36,
   "id": "99f55509",
   "metadata": {},
   "outputs": [],
   "source": [
    "rf = RandomForestClassifier(max_depth=10, n_estimators=1000) #n_estimators 트리 갯수 "
   ]
  },
  {
   "cell_type": "code",
   "execution_count": 37,
   "id": "48997292",
   "metadata": {},
   "outputs": [
    {
     "data": {
      "text/plain": [
       "RandomForestClassifier(max_depth=10, n_estimators=1000)"
      ]
     },
     "execution_count": 37,
     "metadata": {},
     "output_type": "execute_result"
    }
   ],
   "source": [
    "rf.fit(X_train,y_train)"
   ]
  },
  {
   "cell_type": "code",
   "execution_count": 38,
   "id": "41d1a670",
   "metadata": {},
   "outputs": [],
   "source": [
    "pred2 = rf.predict(X_test)"
   ]
  },
  {
   "cell_type": "code",
   "execution_count": 39,
   "id": "7ba39571",
   "metadata": {},
   "outputs": [
    {
     "data": {
      "text/plain": [
       "0.7855"
      ]
     },
     "execution_count": 39,
     "metadata": {},
     "output_type": "execute_result"
    }
   ],
   "source": [
    "accuracy_score(y_test, pred2)"
   ]
  },
  {
   "cell_type": "code",
   "execution_count": 40,
   "id": "08d08f5d",
   "metadata": {},
   "outputs": [
    {
     "data": {
      "text/plain": [
       "array([[  60,  426],\n",
       "       [   3, 1511]], dtype=int64)"
      ]
     },
     "execution_count": 40,
     "metadata": {},
     "output_type": "execute_result"
    }
   ],
   "source": [
    "confusion_matrix(y_test,pred2)"
   ]
  },
  {
   "cell_type": "code",
   "execution_count": 41,
   "id": "0c45c64f",
   "metadata": {},
   "outputs": [
    {
     "name": "stdout",
     "output_type": "stream",
     "text": [
      "              precision    recall  f1-score   support\n",
      "\n",
      "           1       0.95      0.12      0.22       486\n",
      "           5       0.78      1.00      0.88      1514\n",
      "\n",
      "    accuracy                           0.79      2000\n",
      "   macro avg       0.87      0.56      0.55      2000\n",
      "weighted avg       0.82      0.79      0.72      2000\n",
      "\n"
     ]
    }
   ],
   "source": [
    "print(classification_report(y_test, pred2))"
   ]
  },
  {
   "cell_type": "code",
   "execution_count": null,
   "id": "0e0227d4",
   "metadata": {},
   "outputs": [],
   "source": []
  }
 ],
 "metadata": {
  "kernelspec": {
   "display_name": "Python 3",
   "language": "python",
   "name": "python3"
  },
  "language_info": {
   "codemirror_mode": {
    "name": "ipython",
    "version": 3
   },
   "file_extension": ".py",
   "mimetype": "text/x-python",
   "name": "python",
   "nbconvert_exporter": "python",
   "pygments_lexer": "ipython3",
   "version": "3.8.5"
  },
  "toc": {
   "base_numbering": 1,
   "nav_menu": {},
   "number_sections": true,
   "sideBar": true,
   "skip_h1_title": false,
   "title_cell": "Table of Contents",
   "title_sidebar": "Contents",
   "toc_cell": false,
   "toc_position": {},
   "toc_section_display": true,
   "toc_window_display": false
  }
 },
 "nbformat": 4,
 "nbformat_minor": 5
}
