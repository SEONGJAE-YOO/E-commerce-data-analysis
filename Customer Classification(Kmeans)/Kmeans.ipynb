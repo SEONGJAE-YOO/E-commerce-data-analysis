{
 "cells": [
  {
   "cell_type": "markdown",
   "id": "63756626",
   "metadata": {},
   "source": [
    "# 고객 분류 (Kmeans)\n",
    "## Supervised Learning & Unsupervised Learning\n"
   ]
  },
  {
   "cell_type": "markdown",
   "id": "dcd051cf",
   "metadata": {},
   "source": [
    "- Supervised Learning => classification, Regression\n",
    "- Unsupervised Learning => clustering, Dimensionality Reduction"
   ]
  },
  {
   "cell_type": "markdown",
   "id": "46d8dc36",
   "metadata": {},
   "source": [
    "- K-Means Clustering\n",
    "K-Means 알고리즘은 가장 유명한 클러스터링 알고리즘입니다. “K”는 주어진 데이터로부터 그룹화 할 그룹, 즉 클러스터의 수를 말합니다. “Means”는 각 클러스터의 중심과 데이터들의 평균 거리를 의미합니다. 이 때 클러스터의 중심을 centroids 라고 합니다.\n",
    "\n",
    "K-Means 알고리즘은 다음과 같은 과정으로 수행됩니다.\n",
    "\n",
    "1.데이터셋에서 K 개의 centroids를 임의로 지정합니다.\n",
    "\n",
    "2.각 데이터들을 가장 가까운 centroids가 속한 그룹에 할당합니다.\n",
    "\n",
    "3.2번 과정에서 할당된 결과를 바탕으로 centroids를 새롭게 지정합니다.\n",
    "\n",
    "4.2 ~ 3번 과정을 centroids가 더 이상 변하지 않을 때 까지 반복합니다."
   ]
  },
  {
   "cell_type": "code",
   "execution_count": 1,
   "id": "d99dfa6d",
   "metadata": {},
   "outputs": [],
   "source": [
    "import pandas as pd\n",
    "import numpy as np\n",
    "import matplotlib as plt\n",
    "import seaborn as sns"
   ]
  },
  {
   "cell_type": "code",
   "execution_count": 2,
   "id": "206435c5",
   "metadata": {},
   "outputs": [],
   "source": [
    "from sklearn.datasets import make_blobs #data를 만들수 있는 function을 import하기 "
   ]
  },
  {
   "cell_type": "code",
   "execution_count": 16,
   "id": "34ceb0bf",
   "metadata": {},
   "outputs": [],
   "source": [
    "data = make_blobs(n_samples = 200, n_features=2, centers = 4, random_state = 100) #n_samples  총 몇개의 데이터가 들어갈지 정한다,n_features 독립변수 숫자를 정한다,centers 특정그룹으로 나눈다(숫자에 따라)  "
   ]
  },
  {
   "cell_type": "code",
   "execution_count": 17,
   "id": "e6051d52",
   "metadata": {},
   "outputs": [
    {
     "data": {
      "text/plain": [
       "(array([[-1.04541152e+01, -7.62125255e+00],\n",
       "        [-1.00696483e+01, -6.35203699e+00],\n",
       "        [-9.72925240e+00, -8.44434843e+00],\n",
       "        [-9.53601173e+00, -8.04924975e+00],\n",
       "        [-3.00736857e+00,  5.70163667e+00],\n",
       "        [-1.00825197e+01, -7.06157008e+00],\n",
       "        [ 1.48356884e+00,  6.54127044e+00],\n",
       "        [ 1.36630977e+00,  7.30084118e+00],\n",
       "        [-6.15050479e-01,  7.65521577e+00],\n",
       "        [-2.13385599e-01,  7.84779827e+00],\n",
       "        [ 3.36818459e-01, -3.40287961e+00],\n",
       "        [-1.37722038e+00,  6.91773657e+00],\n",
       "        [-1.08726796e+00,  5.80147972e+00],\n",
       "        [-1.63584937e+00,  8.88579630e+00],\n",
       "        [-7.62592530e-01,  7.32519908e+00],\n",
       "        [-1.93336328e+00,  5.70953908e+00],\n",
       "        [-9.51418426e+00, -7.24137223e+00],\n",
       "        [-9.86650380e-01,  6.87917724e+00],\n",
       "        [-9.37825374e+00, -7.94292047e+00],\n",
       "        [ 2.66345400e-01,  7.40859703e+00],\n",
       "        [-1.20385333e+01, -6.80941325e+00],\n",
       "        [-9.20343837e+00, -8.85252239e+00],\n",
       "        [ 4.10071850e-01, -3.99744881e+00],\n",
       "        [ 2.25174587e+00,  6.49587933e+00],\n",
       "        [ 7.92075370e-01, -4.42865470e+00],\n",
       "        [ 5.41860777e-01, -4.37693628e+00],\n",
       "        [-7.56585997e-01,  5.28608375e+00],\n",
       "        [-8.95266345e+00, -8.55198023e+00],\n",
       "        [-1.68442974e+00,  7.91278699e+00],\n",
       "        [ 1.48113772e+00, -3.69640708e+00],\n",
       "        [ 8.75413399e-01, -5.04555103e+00],\n",
       "        [ 3.00989843e+00,  7.05349904e+00],\n",
       "        [ 9.76962304e-01, -3.92480271e+00],\n",
       "        [-9.94328955e+00, -6.73708455e+00],\n",
       "        [-9.79380030e+00, -5.02918555e+00],\n",
       "        [-1.37939973e+00,  7.84488351e+00],\n",
       "        [-2.10521664e+00, -4.39929502e+00],\n",
       "        [ 4.29963213e-01, -5.55093054e+00],\n",
       "        [-1.01724010e+01, -8.42467961e+00],\n",
       "        [-1.40787241e+00,  8.20386947e+00],\n",
       "        [-8.86329013e+00, -6.46974160e+00],\n",
       "        [-1.17867375e+01, -7.38627486e+00],\n",
       "        [ 2.70003492e+00, -4.42959486e+00],\n",
       "        [ 3.74018799e+00,  5.86277425e+00],\n",
       "        [ 9.76970826e-01, -4.40432866e+00],\n",
       "        [ 3.53853432e+00,  8.06478420e+00],\n",
       "        [-1.36995537e-02, -4.41397335e+00],\n",
       "        [-2.21406638e+00,  6.30414753e+00],\n",
       "        [ 1.54081964e+00, -4.53702344e+00],\n",
       "        [-9.78801442e+00, -8.52678592e+00],\n",
       "        [-9.88043097e+00, -6.05108146e+00],\n",
       "        [ 1.44867217e+00, -5.53713539e+00],\n",
       "        [-1.04422633e+01, -6.74549318e+00],\n",
       "        [ 6.83084725e-01, -6.91976383e+00],\n",
       "        [-8.45020142e+00, -7.32711070e+00],\n",
       "        [-9.73089464e-01, -4.06651907e+00],\n",
       "        [ 2.84503785e-01, -3.61576523e+00],\n",
       "        [-1.31673099e+00,  6.54706372e+00],\n",
       "        [ 2.05907384e+00,  4.80547205e+00],\n",
       "        [ 3.18199713e+00,  5.33264367e+00],\n",
       "        [ 2.48573450e+00,  6.91547152e+00],\n",
       "        [-6.73223235e+00, -4.23441407e+00],\n",
       "        [ 2.16784691e+00, -6.16570792e+00],\n",
       "        [ 2.34531543e+00,  6.74289385e+00],\n",
       "        [-1.02040585e+01, -7.97090751e+00],\n",
       "        [ 3.19485113e+00,  6.26478506e+00],\n",
       "        [-1.19228021e+00,  6.14310847e+00],\n",
       "        [-9.14758038e+00, -8.76805755e+00],\n",
       "        [ 3.53993567e+00,  5.45180895e+00],\n",
       "        [-9.61724546e+00, -7.90770302e+00],\n",
       "        [ 3.42501883e+00,  6.99734348e+00],\n",
       "        [-2.72690232e+00,  6.73825748e+00],\n",
       "        [ 3.76567451e+00,  6.38497839e+00],\n",
       "        [-1.05675606e+01, -4.10339044e+00],\n",
       "        [ 2.20129016e+00,  6.70519206e+00],\n",
       "        [-7.88653676e+00, -6.82121417e+00],\n",
       "        [ 5.36321701e-01, -5.12183028e+00],\n",
       "        [ 3.57358029e+00,  8.64954183e+00],\n",
       "        [ 1.28366703e+00,  6.78013179e+00],\n",
       "        [-8.38331511e+00, -7.74858090e+00],\n",
       "        [ 3.74605338e+00,  6.15055885e+00],\n",
       "        [ 1.64692124e+00, -4.00437943e+00],\n",
       "        [-1.05324768e+01, -7.84355739e+00],\n",
       "        [-9.49791635e+00, -8.39689798e+00],\n",
       "        [ 2.89273011e-01, -5.63206350e+00],\n",
       "        [ 4.30265348e+00,  6.60570489e+00],\n",
       "        [-2.12627756e+00,  7.65870629e+00],\n",
       "        [ 1.61855217e+00, -5.73960464e+00],\n",
       "        [-3.05026421e+00,  8.94223661e+00],\n",
       "        [ 1.55822031e+00, -3.74572223e+00],\n",
       "        [ 3.26013324e+00,  6.43099946e+00],\n",
       "        [-8.62817084e+00, -8.01420585e+00],\n",
       "        [-1.74836105e+00,  5.46645575e+00],\n",
       "        [-4.88300213e-01, -5.66504681e+00],\n",
       "        [-1.21747799e+01, -7.91678822e+00],\n",
       "        [-8.34630802e+00, -8.66130645e+00],\n",
       "        [-8.36552370e-01, -5.56887330e+00],\n",
       "        [ 3.07922486e+00,  6.38042572e+00],\n",
       "        [-4.15961535e-01,  6.66600489e+00],\n",
       "        [-9.81739294e+00, -8.17137695e+00],\n",
       "        [ 2.88933650e+00,  5.93216577e+00],\n",
       "        [-1.87511018e+00,  5.62449961e+00],\n",
       "        [ 6.19210169e-01, -4.88278873e+00],\n",
       "        [ 5.08677288e+00,  6.20404737e+00],\n",
       "        [ 5.65144983e-01,  6.55222496e+00],\n",
       "        [-1.28725738e+00,  6.21060091e+00],\n",
       "        [-7.45479667e-01, -2.96189843e+00],\n",
       "        [ 2.90270640e+00, -4.98332671e+00],\n",
       "        [ 4.01803539e+00,  5.45558747e+00],\n",
       "        [-3.39121202e-01,  8.97323488e+00],\n",
       "        [-3.52483690e+00,  6.81598206e+00],\n",
       "        [ 1.89502028e+00, -5.86480291e+00],\n",
       "        [ 2.09040360e+00,  6.75543975e+00],\n",
       "        [-2.80603999e+00,  6.99066209e+00],\n",
       "        [ 1.45801414e+00,  5.95257044e+00],\n",
       "        [ 2.74467226e+00, -4.80951565e+00],\n",
       "        [-2.72740300e-01,  6.66523797e+00],\n",
       "        [ 3.91373218e+00,  5.43922903e+00],\n",
       "        [-1.05007367e+01, -8.55142948e+00],\n",
       "        [-8.75816544e+00, -6.40864861e+00],\n",
       "        [-9.48216559e+00, -7.72813495e+00],\n",
       "        [ 4.90551479e+00,  6.11766373e+00],\n",
       "        [-1.15211263e-01, -4.07510454e+00],\n",
       "        [-8.30225088e+00, -6.55572135e+00],\n",
       "        [-8.66454079e+00, -5.90508127e+00],\n",
       "        [-3.19918761e-01, -4.98235849e+00],\n",
       "        [-2.10963123e+00,  8.47168937e+00],\n",
       "        [-7.19473257e-02, -5.26054466e+00],\n",
       "        [-1.92546452e+00,  5.53701971e+00],\n",
       "        [-2.92469111e+00,  6.25476272e+00],\n",
       "        [-2.90664753e+00,  5.79835066e+00],\n",
       "        [ 1.61854360e+00, -4.88855923e+00],\n",
       "        [ 1.05261753e+00, -3.49553010e+00],\n",
       "        [ 3.39585894e+00,  7.50999675e+00],\n",
       "        [ 1.08927851e+00, -5.50265563e+00],\n",
       "        [-7.60625341e+00, -8.50822003e+00],\n",
       "        [-7.72653016e-01,  7.33138990e+00],\n",
       "        [ 7.88487590e-01, -5.32234378e+00],\n",
       "        [-8.37853170e-01, -4.06344834e+00],\n",
       "        [-7.30021881e-01,  6.45740173e+00],\n",
       "        [ 1.11746530e-01, -3.61615829e+00],\n",
       "        [ 7.65227534e-02,  7.58891330e+00],\n",
       "        [ 4.20540979e+00,  7.60887101e+00],\n",
       "        [-9.50202446e+00, -9.45345197e+00],\n",
       "        [-8.78006742e+00, -6.64156429e+00],\n",
       "        [ 3.50775812e+00,  6.70677389e+00],\n",
       "        [ 3.95479461e+00,  7.06022828e+00],\n",
       "        [-9.05224646e-01,  5.98849223e+00],\n",
       "        [ 2.27830898e+00,  6.76554973e+00],\n",
       "        [ 7.89005756e-01,  6.73031309e+00],\n",
       "        [ 3.23608770e+00,  7.69529426e+00],\n",
       "        [-1.11759409e+01, -6.93311642e+00],\n",
       "        [-6.98588694e-01, -3.52763818e+00],\n",
       "        [-1.04953315e+01, -8.38204241e+00],\n",
       "        [-1.02817702e+01, -7.10826837e+00],\n",
       "        [ 6.78603005e-01, -4.17761085e+00],\n",
       "        [-2.02407808e+00,  6.67946253e+00],\n",
       "        [-9.17624916e-01,  6.45845823e+00],\n",
       "        [ 3.99191575e+00,  6.60357995e+00],\n",
       "        [-1.04334882e+00,  7.16550989e+00],\n",
       "        [ 3.30709252e+00,  7.52045266e+00],\n",
       "        [ 3.28538514e+00,  6.34622469e+00],\n",
       "        [ 4.37872623e+00,  7.77078124e+00],\n",
       "        [-1.82947923e+00,  5.74778105e+00],\n",
       "        [-1.01908037e+01, -7.08820617e+00],\n",
       "        [ 3.43857919e+00,  6.34659863e+00],\n",
       "        [-1.05304951e+01, -7.67861298e+00],\n",
       "        [ 1.10594346e+00, -4.41906375e+00],\n",
       "        [ 6.16219697e-01, -5.27504804e+00],\n",
       "        [-1.20859872e+00,  5.21062268e+00],\n",
       "        [ 4.61164315e+00,  6.05221253e+00],\n",
       "        [-1.96557020e+00,  7.54469557e+00],\n",
       "        [ 3.21718440e+00,  5.66238231e+00],\n",
       "        [ 1.93975803e-01,  6.17337188e+00],\n",
       "        [ 5.87148931e-03, -3.18314256e+00],\n",
       "        [ 4.33614078e-01,  5.44808653e+00],\n",
       "        [-3.01723335e+00,  7.00340678e+00],\n",
       "        [ 2.84271780e+00,  9.26217307e+00],\n",
       "        [-9.42853058e+00, -8.99838025e+00],\n",
       "        [-8.51802106e+00, -9.30400873e+00],\n",
       "        [ 6.13631530e+00,  4.54419105e+00],\n",
       "        [ 1.43136075e+00,  6.68419189e+00],\n",
       "        [-1.51854685e+00,  6.35232464e+00],\n",
       "        [ 1.59909918e+00, -3.07105617e+00],\n",
       "        [-9.43762219e+00, -4.85961564e+00],\n",
       "        [-7.67430564e-01, -5.47682218e+00],\n",
       "        [ 2.14392371e+00,  7.44615522e+00],\n",
       "        [ 5.25950490e+00,  6.18091147e+00],\n",
       "        [ 4.27545710e+00,  6.27045780e+00],\n",
       "        [ 2.48708050e+00, -2.89100712e+00],\n",
       "        [ 2.97157371e+00,  7.25600900e+00],\n",
       "        [ 3.79877054e+00,  7.85178586e+00],\n",
       "        [ 2.05772110e+00, -6.12322912e+00],\n",
       "        [-1.02169699e+01, -8.99327317e+00],\n",
       "        [ 1.09049844e+00, -5.87582929e+00],\n",
       "        [-5.60643409e-01,  6.87612506e+00],\n",
       "        [-3.46772942e+00,  6.76072133e+00],\n",
       "        [-1.10001801e+01, -7.80996633e+00],\n",
       "        [ 1.89855120e+00,  6.84633761e+00],\n",
       "        [ 3.23659674e-01, -5.10078403e+00]]),\n",
       " array([2, 2, 2, 2, 1, 2, 3, 3, 1, 1, 0, 1, 1, 1, 1, 1, 2, 1, 2, 1, 2, 2,\n",
       "        0, 3, 0, 0, 1, 2, 1, 0, 0, 3, 0, 2, 2, 1, 0, 0, 2, 1, 2, 2, 0, 3,\n",
       "        0, 3, 0, 1, 0, 2, 2, 0, 2, 0, 2, 0, 0, 1, 3, 3, 3, 2, 0, 3, 2, 3,\n",
       "        1, 2, 3, 2, 3, 1, 3, 2, 3, 2, 0, 3, 3, 2, 3, 0, 2, 2, 0, 3, 1, 0,\n",
       "        1, 0, 3, 2, 1, 0, 2, 2, 0, 3, 1, 2, 3, 1, 0, 3, 1, 1, 0, 0, 3, 1,\n",
       "        1, 0, 3, 1, 3, 0, 1, 3, 2, 2, 2, 3, 0, 2, 2, 0, 1, 0, 1, 1, 1, 0,\n",
       "        0, 3, 0, 2, 1, 0, 0, 1, 0, 1, 3, 2, 2, 3, 3, 1, 3, 1, 3, 2, 0, 2,\n",
       "        2, 0, 1, 1, 3, 1, 3, 3, 3, 1, 2, 3, 2, 0, 0, 1, 3, 1, 3, 1, 0, 1,\n",
       "        1, 3, 2, 2, 3, 3, 1, 0, 2, 0, 3, 3, 3, 0, 3, 3, 0, 2, 0, 1, 1, 2,\n",
       "        3, 0]))"
      ]
     },
     "execution_count": 17,
     "metadata": {},
     "output_type": "execute_result"
    }
   ],
   "source": [
    "data"
   ]
  },
  {
   "cell_type": "code",
   "execution_count": 18,
   "id": "21c64909",
   "metadata": {},
   "outputs": [
    {
     "data": {
      "text/plain": [
       "array([[-1.04541152e+01, -7.62125255e+00],\n",
       "       [-1.00696483e+01, -6.35203699e+00],\n",
       "       [-9.72925240e+00, -8.44434843e+00],\n",
       "       [-9.53601173e+00, -8.04924975e+00],\n",
       "       [-3.00736857e+00,  5.70163667e+00],\n",
       "       [-1.00825197e+01, -7.06157008e+00],\n",
       "       [ 1.48356884e+00,  6.54127044e+00],\n",
       "       [ 1.36630977e+00,  7.30084118e+00],\n",
       "       [-6.15050479e-01,  7.65521577e+00],\n",
       "       [-2.13385599e-01,  7.84779827e+00],\n",
       "       [ 3.36818459e-01, -3.40287961e+00],\n",
       "       [-1.37722038e+00,  6.91773657e+00],\n",
       "       [-1.08726796e+00,  5.80147972e+00],\n",
       "       [-1.63584937e+00,  8.88579630e+00],\n",
       "       [-7.62592530e-01,  7.32519908e+00],\n",
       "       [-1.93336328e+00,  5.70953908e+00],\n",
       "       [-9.51418426e+00, -7.24137223e+00],\n",
       "       [-9.86650380e-01,  6.87917724e+00],\n",
       "       [-9.37825374e+00, -7.94292047e+00],\n",
       "       [ 2.66345400e-01,  7.40859703e+00],\n",
       "       [-1.20385333e+01, -6.80941325e+00],\n",
       "       [-9.20343837e+00, -8.85252239e+00],\n",
       "       [ 4.10071850e-01, -3.99744881e+00],\n",
       "       [ 2.25174587e+00,  6.49587933e+00],\n",
       "       [ 7.92075370e-01, -4.42865470e+00],\n",
       "       [ 5.41860777e-01, -4.37693628e+00],\n",
       "       [-7.56585997e-01,  5.28608375e+00],\n",
       "       [-8.95266345e+00, -8.55198023e+00],\n",
       "       [-1.68442974e+00,  7.91278699e+00],\n",
       "       [ 1.48113772e+00, -3.69640708e+00],\n",
       "       [ 8.75413399e-01, -5.04555103e+00],\n",
       "       [ 3.00989843e+00,  7.05349904e+00],\n",
       "       [ 9.76962304e-01, -3.92480271e+00],\n",
       "       [-9.94328955e+00, -6.73708455e+00],\n",
       "       [-9.79380030e+00, -5.02918555e+00],\n",
       "       [-1.37939973e+00,  7.84488351e+00],\n",
       "       [-2.10521664e+00, -4.39929502e+00],\n",
       "       [ 4.29963213e-01, -5.55093054e+00],\n",
       "       [-1.01724010e+01, -8.42467961e+00],\n",
       "       [-1.40787241e+00,  8.20386947e+00],\n",
       "       [-8.86329013e+00, -6.46974160e+00],\n",
       "       [-1.17867375e+01, -7.38627486e+00],\n",
       "       [ 2.70003492e+00, -4.42959486e+00],\n",
       "       [ 3.74018799e+00,  5.86277425e+00],\n",
       "       [ 9.76970826e-01, -4.40432866e+00],\n",
       "       [ 3.53853432e+00,  8.06478420e+00],\n",
       "       [-1.36995537e-02, -4.41397335e+00],\n",
       "       [-2.21406638e+00,  6.30414753e+00],\n",
       "       [ 1.54081964e+00, -4.53702344e+00],\n",
       "       [-9.78801442e+00, -8.52678592e+00],\n",
       "       [-9.88043097e+00, -6.05108146e+00],\n",
       "       [ 1.44867217e+00, -5.53713539e+00],\n",
       "       [-1.04422633e+01, -6.74549318e+00],\n",
       "       [ 6.83084725e-01, -6.91976383e+00],\n",
       "       [-8.45020142e+00, -7.32711070e+00],\n",
       "       [-9.73089464e-01, -4.06651907e+00],\n",
       "       [ 2.84503785e-01, -3.61576523e+00],\n",
       "       [-1.31673099e+00,  6.54706372e+00],\n",
       "       [ 2.05907384e+00,  4.80547205e+00],\n",
       "       [ 3.18199713e+00,  5.33264367e+00],\n",
       "       [ 2.48573450e+00,  6.91547152e+00],\n",
       "       [-6.73223235e+00, -4.23441407e+00],\n",
       "       [ 2.16784691e+00, -6.16570792e+00],\n",
       "       [ 2.34531543e+00,  6.74289385e+00],\n",
       "       [-1.02040585e+01, -7.97090751e+00],\n",
       "       [ 3.19485113e+00,  6.26478506e+00],\n",
       "       [-1.19228021e+00,  6.14310847e+00],\n",
       "       [-9.14758038e+00, -8.76805755e+00],\n",
       "       [ 3.53993567e+00,  5.45180895e+00],\n",
       "       [-9.61724546e+00, -7.90770302e+00],\n",
       "       [ 3.42501883e+00,  6.99734348e+00],\n",
       "       [-2.72690232e+00,  6.73825748e+00],\n",
       "       [ 3.76567451e+00,  6.38497839e+00],\n",
       "       [-1.05675606e+01, -4.10339044e+00],\n",
       "       [ 2.20129016e+00,  6.70519206e+00],\n",
       "       [-7.88653676e+00, -6.82121417e+00],\n",
       "       [ 5.36321701e-01, -5.12183028e+00],\n",
       "       [ 3.57358029e+00,  8.64954183e+00],\n",
       "       [ 1.28366703e+00,  6.78013179e+00],\n",
       "       [-8.38331511e+00, -7.74858090e+00],\n",
       "       [ 3.74605338e+00,  6.15055885e+00],\n",
       "       [ 1.64692124e+00, -4.00437943e+00],\n",
       "       [-1.05324768e+01, -7.84355739e+00],\n",
       "       [-9.49791635e+00, -8.39689798e+00],\n",
       "       [ 2.89273011e-01, -5.63206350e+00],\n",
       "       [ 4.30265348e+00,  6.60570489e+00],\n",
       "       [-2.12627756e+00,  7.65870629e+00],\n",
       "       [ 1.61855217e+00, -5.73960464e+00],\n",
       "       [-3.05026421e+00,  8.94223661e+00],\n",
       "       [ 1.55822031e+00, -3.74572223e+00],\n",
       "       [ 3.26013324e+00,  6.43099946e+00],\n",
       "       [-8.62817084e+00, -8.01420585e+00],\n",
       "       [-1.74836105e+00,  5.46645575e+00],\n",
       "       [-4.88300213e-01, -5.66504681e+00],\n",
       "       [-1.21747799e+01, -7.91678822e+00],\n",
       "       [-8.34630802e+00, -8.66130645e+00],\n",
       "       [-8.36552370e-01, -5.56887330e+00],\n",
       "       [ 3.07922486e+00,  6.38042572e+00],\n",
       "       [-4.15961535e-01,  6.66600489e+00],\n",
       "       [-9.81739294e+00, -8.17137695e+00],\n",
       "       [ 2.88933650e+00,  5.93216577e+00],\n",
       "       [-1.87511018e+00,  5.62449961e+00],\n",
       "       [ 6.19210169e-01, -4.88278873e+00],\n",
       "       [ 5.08677288e+00,  6.20404737e+00],\n",
       "       [ 5.65144983e-01,  6.55222496e+00],\n",
       "       [-1.28725738e+00,  6.21060091e+00],\n",
       "       [-7.45479667e-01, -2.96189843e+00],\n",
       "       [ 2.90270640e+00, -4.98332671e+00],\n",
       "       [ 4.01803539e+00,  5.45558747e+00],\n",
       "       [-3.39121202e-01,  8.97323488e+00],\n",
       "       [-3.52483690e+00,  6.81598206e+00],\n",
       "       [ 1.89502028e+00, -5.86480291e+00],\n",
       "       [ 2.09040360e+00,  6.75543975e+00],\n",
       "       [-2.80603999e+00,  6.99066209e+00],\n",
       "       [ 1.45801414e+00,  5.95257044e+00],\n",
       "       [ 2.74467226e+00, -4.80951565e+00],\n",
       "       [-2.72740300e-01,  6.66523797e+00],\n",
       "       [ 3.91373218e+00,  5.43922903e+00],\n",
       "       [-1.05007367e+01, -8.55142948e+00],\n",
       "       [-8.75816544e+00, -6.40864861e+00],\n",
       "       [-9.48216559e+00, -7.72813495e+00],\n",
       "       [ 4.90551479e+00,  6.11766373e+00],\n",
       "       [-1.15211263e-01, -4.07510454e+00],\n",
       "       [-8.30225088e+00, -6.55572135e+00],\n",
       "       [-8.66454079e+00, -5.90508127e+00],\n",
       "       [-3.19918761e-01, -4.98235849e+00],\n",
       "       [-2.10963123e+00,  8.47168937e+00],\n",
       "       [-7.19473257e-02, -5.26054466e+00],\n",
       "       [-1.92546452e+00,  5.53701971e+00],\n",
       "       [-2.92469111e+00,  6.25476272e+00],\n",
       "       [-2.90664753e+00,  5.79835066e+00],\n",
       "       [ 1.61854360e+00, -4.88855923e+00],\n",
       "       [ 1.05261753e+00, -3.49553010e+00],\n",
       "       [ 3.39585894e+00,  7.50999675e+00],\n",
       "       [ 1.08927851e+00, -5.50265563e+00],\n",
       "       [-7.60625341e+00, -8.50822003e+00],\n",
       "       [-7.72653016e-01,  7.33138990e+00],\n",
       "       [ 7.88487590e-01, -5.32234378e+00],\n",
       "       [-8.37853170e-01, -4.06344834e+00],\n",
       "       [-7.30021881e-01,  6.45740173e+00],\n",
       "       [ 1.11746530e-01, -3.61615829e+00],\n",
       "       [ 7.65227534e-02,  7.58891330e+00],\n",
       "       [ 4.20540979e+00,  7.60887101e+00],\n",
       "       [-9.50202446e+00, -9.45345197e+00],\n",
       "       [-8.78006742e+00, -6.64156429e+00],\n",
       "       [ 3.50775812e+00,  6.70677389e+00],\n",
       "       [ 3.95479461e+00,  7.06022828e+00],\n",
       "       [-9.05224646e-01,  5.98849223e+00],\n",
       "       [ 2.27830898e+00,  6.76554973e+00],\n",
       "       [ 7.89005756e-01,  6.73031309e+00],\n",
       "       [ 3.23608770e+00,  7.69529426e+00],\n",
       "       [-1.11759409e+01, -6.93311642e+00],\n",
       "       [-6.98588694e-01, -3.52763818e+00],\n",
       "       [-1.04953315e+01, -8.38204241e+00],\n",
       "       [-1.02817702e+01, -7.10826837e+00],\n",
       "       [ 6.78603005e-01, -4.17761085e+00],\n",
       "       [-2.02407808e+00,  6.67946253e+00],\n",
       "       [-9.17624916e-01,  6.45845823e+00],\n",
       "       [ 3.99191575e+00,  6.60357995e+00],\n",
       "       [-1.04334882e+00,  7.16550989e+00],\n",
       "       [ 3.30709252e+00,  7.52045266e+00],\n",
       "       [ 3.28538514e+00,  6.34622469e+00],\n",
       "       [ 4.37872623e+00,  7.77078124e+00],\n",
       "       [-1.82947923e+00,  5.74778105e+00],\n",
       "       [-1.01908037e+01, -7.08820617e+00],\n",
       "       [ 3.43857919e+00,  6.34659863e+00],\n",
       "       [-1.05304951e+01, -7.67861298e+00],\n",
       "       [ 1.10594346e+00, -4.41906375e+00],\n",
       "       [ 6.16219697e-01, -5.27504804e+00],\n",
       "       [-1.20859872e+00,  5.21062268e+00],\n",
       "       [ 4.61164315e+00,  6.05221253e+00],\n",
       "       [-1.96557020e+00,  7.54469557e+00],\n",
       "       [ 3.21718440e+00,  5.66238231e+00],\n",
       "       [ 1.93975803e-01,  6.17337188e+00],\n",
       "       [ 5.87148931e-03, -3.18314256e+00],\n",
       "       [ 4.33614078e-01,  5.44808653e+00],\n",
       "       [-3.01723335e+00,  7.00340678e+00],\n",
       "       [ 2.84271780e+00,  9.26217307e+00],\n",
       "       [-9.42853058e+00, -8.99838025e+00],\n",
       "       [-8.51802106e+00, -9.30400873e+00],\n",
       "       [ 6.13631530e+00,  4.54419105e+00],\n",
       "       [ 1.43136075e+00,  6.68419189e+00],\n",
       "       [-1.51854685e+00,  6.35232464e+00],\n",
       "       [ 1.59909918e+00, -3.07105617e+00],\n",
       "       [-9.43762219e+00, -4.85961564e+00],\n",
       "       [-7.67430564e-01, -5.47682218e+00],\n",
       "       [ 2.14392371e+00,  7.44615522e+00],\n",
       "       [ 5.25950490e+00,  6.18091147e+00],\n",
       "       [ 4.27545710e+00,  6.27045780e+00],\n",
       "       [ 2.48708050e+00, -2.89100712e+00],\n",
       "       [ 2.97157371e+00,  7.25600900e+00],\n",
       "       [ 3.79877054e+00,  7.85178586e+00],\n",
       "       [ 2.05772110e+00, -6.12322912e+00],\n",
       "       [-1.02169699e+01, -8.99327317e+00],\n",
       "       [ 1.09049844e+00, -5.87582929e+00],\n",
       "       [-5.60643409e-01,  6.87612506e+00],\n",
       "       [-3.46772942e+00,  6.76072133e+00],\n",
       "       [-1.10001801e+01, -7.80996633e+00],\n",
       "       [ 1.89855120e+00,  6.84633761e+00],\n",
       "       [ 3.23659674e-01, -5.10078403e+00]])"
      ]
     },
     "execution_count": 18,
     "metadata": {},
     "output_type": "execute_result"
    }
   ],
   "source": [
    "data[0] #독립변수 값 나온다"
   ]
  },
  {
   "cell_type": "code",
   "execution_count": 19,
   "id": "dc8a2ece",
   "metadata": {},
   "outputs": [
    {
     "data": {
      "text/plain": [
       "array([2, 2, 2, 2, 1, 2, 3, 3, 1, 1, 0, 1, 1, 1, 1, 1, 2, 1, 2, 1, 2, 2,\n",
       "       0, 3, 0, 0, 1, 2, 1, 0, 0, 3, 0, 2, 2, 1, 0, 0, 2, 1, 2, 2, 0, 3,\n",
       "       0, 3, 0, 1, 0, 2, 2, 0, 2, 0, 2, 0, 0, 1, 3, 3, 3, 2, 0, 3, 2, 3,\n",
       "       1, 2, 3, 2, 3, 1, 3, 2, 3, 2, 0, 3, 3, 2, 3, 0, 2, 2, 0, 3, 1, 0,\n",
       "       1, 0, 3, 2, 1, 0, 2, 2, 0, 3, 1, 2, 3, 1, 0, 3, 1, 1, 0, 0, 3, 1,\n",
       "       1, 0, 3, 1, 3, 0, 1, 3, 2, 2, 2, 3, 0, 2, 2, 0, 1, 0, 1, 1, 1, 0,\n",
       "       0, 3, 0, 2, 1, 0, 0, 1, 0, 1, 3, 2, 2, 3, 3, 1, 3, 1, 3, 2, 0, 2,\n",
       "       2, 0, 1, 1, 3, 1, 3, 3, 3, 1, 2, 3, 2, 0, 0, 1, 3, 1, 3, 1, 0, 1,\n",
       "       1, 3, 2, 2, 3, 3, 1, 0, 2, 0, 3, 3, 3, 0, 3, 3, 0, 2, 0, 1, 1, 2,\n",
       "       3, 0])"
      ]
     },
     "execution_count": 19,
     "metadata": {},
     "output_type": "execute_result"
    }
   ],
   "source": [
    "data[1] #종속변수 값 나온다"
   ]
  },
  {
   "cell_type": "code",
   "execution_count": 20,
   "id": "01d272ae",
   "metadata": {},
   "outputs": [
    {
     "data": {
      "text/plain": [
       "array([-1.04541152e+01, -1.00696483e+01, -9.72925240e+00, -9.53601173e+00,\n",
       "       -3.00736857e+00, -1.00825197e+01,  1.48356884e+00,  1.36630977e+00,\n",
       "       -6.15050479e-01, -2.13385599e-01,  3.36818459e-01, -1.37722038e+00,\n",
       "       -1.08726796e+00, -1.63584937e+00, -7.62592530e-01, -1.93336328e+00,\n",
       "       -9.51418426e+00, -9.86650380e-01, -9.37825374e+00,  2.66345400e-01,\n",
       "       -1.20385333e+01, -9.20343837e+00,  4.10071850e-01,  2.25174587e+00,\n",
       "        7.92075370e-01,  5.41860777e-01, -7.56585997e-01, -8.95266345e+00,\n",
       "       -1.68442974e+00,  1.48113772e+00,  8.75413399e-01,  3.00989843e+00,\n",
       "        9.76962304e-01, -9.94328955e+00, -9.79380030e+00, -1.37939973e+00,\n",
       "       -2.10521664e+00,  4.29963213e-01, -1.01724010e+01, -1.40787241e+00,\n",
       "       -8.86329013e+00, -1.17867375e+01,  2.70003492e+00,  3.74018799e+00,\n",
       "        9.76970826e-01,  3.53853432e+00, -1.36995537e-02, -2.21406638e+00,\n",
       "        1.54081964e+00, -9.78801442e+00, -9.88043097e+00,  1.44867217e+00,\n",
       "       -1.04422633e+01,  6.83084725e-01, -8.45020142e+00, -9.73089464e-01,\n",
       "        2.84503785e-01, -1.31673099e+00,  2.05907384e+00,  3.18199713e+00,\n",
       "        2.48573450e+00, -6.73223235e+00,  2.16784691e+00,  2.34531543e+00,\n",
       "       -1.02040585e+01,  3.19485113e+00, -1.19228021e+00, -9.14758038e+00,\n",
       "        3.53993567e+00, -9.61724546e+00,  3.42501883e+00, -2.72690232e+00,\n",
       "        3.76567451e+00, -1.05675606e+01,  2.20129016e+00, -7.88653676e+00,\n",
       "        5.36321701e-01,  3.57358029e+00,  1.28366703e+00, -8.38331511e+00,\n",
       "        3.74605338e+00,  1.64692124e+00, -1.05324768e+01, -9.49791635e+00,\n",
       "        2.89273011e-01,  4.30265348e+00, -2.12627756e+00,  1.61855217e+00,\n",
       "       -3.05026421e+00,  1.55822031e+00,  3.26013324e+00, -8.62817084e+00,\n",
       "       -1.74836105e+00, -4.88300213e-01, -1.21747799e+01, -8.34630802e+00,\n",
       "       -8.36552370e-01,  3.07922486e+00, -4.15961535e-01, -9.81739294e+00,\n",
       "        2.88933650e+00, -1.87511018e+00,  6.19210169e-01,  5.08677288e+00,\n",
       "        5.65144983e-01, -1.28725738e+00, -7.45479667e-01,  2.90270640e+00,\n",
       "        4.01803539e+00, -3.39121202e-01, -3.52483690e+00,  1.89502028e+00,\n",
       "        2.09040360e+00, -2.80603999e+00,  1.45801414e+00,  2.74467226e+00,\n",
       "       -2.72740300e-01,  3.91373218e+00, -1.05007367e+01, -8.75816544e+00,\n",
       "       -9.48216559e+00,  4.90551479e+00, -1.15211263e-01, -8.30225088e+00,\n",
       "       -8.66454079e+00, -3.19918761e-01, -2.10963123e+00, -7.19473257e-02,\n",
       "       -1.92546452e+00, -2.92469111e+00, -2.90664753e+00,  1.61854360e+00,\n",
       "        1.05261753e+00,  3.39585894e+00,  1.08927851e+00, -7.60625341e+00,\n",
       "       -7.72653016e-01,  7.88487590e-01, -8.37853170e-01, -7.30021881e-01,\n",
       "        1.11746530e-01,  7.65227534e-02,  4.20540979e+00, -9.50202446e+00,\n",
       "       -8.78006742e+00,  3.50775812e+00,  3.95479461e+00, -9.05224646e-01,\n",
       "        2.27830898e+00,  7.89005756e-01,  3.23608770e+00, -1.11759409e+01,\n",
       "       -6.98588694e-01, -1.04953315e+01, -1.02817702e+01,  6.78603005e-01,\n",
       "       -2.02407808e+00, -9.17624916e-01,  3.99191575e+00, -1.04334882e+00,\n",
       "        3.30709252e+00,  3.28538514e+00,  4.37872623e+00, -1.82947923e+00,\n",
       "       -1.01908037e+01,  3.43857919e+00, -1.05304951e+01,  1.10594346e+00,\n",
       "        6.16219697e-01, -1.20859872e+00,  4.61164315e+00, -1.96557020e+00,\n",
       "        3.21718440e+00,  1.93975803e-01,  5.87148931e-03,  4.33614078e-01,\n",
       "       -3.01723335e+00,  2.84271780e+00, -9.42853058e+00, -8.51802106e+00,\n",
       "        6.13631530e+00,  1.43136075e+00, -1.51854685e+00,  1.59909918e+00,\n",
       "       -9.43762219e+00, -7.67430564e-01,  2.14392371e+00,  5.25950490e+00,\n",
       "        4.27545710e+00,  2.48708050e+00,  2.97157371e+00,  3.79877054e+00,\n",
       "        2.05772110e+00, -1.02169699e+01,  1.09049844e+00, -5.60643409e-01,\n",
       "       -3.46772942e+00, -1.10001801e+01,  1.89855120e+00,  3.23659674e-01])"
      ]
     },
     "execution_count": 20,
     "metadata": {},
     "output_type": "execute_result"
    }
   ],
   "source": [
    "data[0][:,0] "
   ]
  },
  {
   "cell_type": "code",
   "execution_count": 23,
   "id": "76284476",
   "metadata": {},
   "outputs": [
    {
     "data": {
      "text/plain": [
       "<AxesSubplot:>"
      ]
     },
     "execution_count": 23,
     "metadata": {},
     "output_type": "execute_result"
    },
    {
     "data": {
      "image/png": "[encoded data removed]",
      "text/plain": [
       "<Figure size 432x288 with 1 Axes>"
      ]
     },
     "metadata": {
      "needs_background": "light"
     },
     "output_type": "display_data"
    }
   ],
   "source": [
    "sns.scatterplot(x=data[0][:,0], y=data[0][:,1], hue= data[1], palette='Set2')"
   ]
  },
  {
   "cell_type": "code",
   "execution_count": 24,
   "id": "8106fd62",
   "metadata": {},
   "outputs": [],
   "source": [
    "from sklearn.cluster import KMeans"
   ]
  },
  {
   "cell_type": "code",
   "execution_count": 26,
   "id": "035a6771",
   "metadata": {},
   "outputs": [],
   "source": [
    "model = KMeans(n_clusters = 4)"
   ]
  },
  {
   "cell_type": "code",
   "execution_count": 27,
   "id": "0f04fa0c",
   "metadata": {},
   "outputs": [
    {
     "data": {
      "text/plain": [
       "KMeans(n_clusters=4)"
      ]
     },
     "execution_count": 27,
     "metadata": {},
     "output_type": "execute_result"
    }
   ],
   "source": [
    "model.fit(data[0])"
   ]
  },
  {
   "cell_type": "code",
   "execution_count": 28,
   "id": "f0b10e7b",
   "metadata": {},
   "outputs": [
    {
     "data": {
      "text/plain": [
       "array([1, 1, 1, 1, 3, 1, 0, 0, 3, 3, 2, 3, 3, 3, 3, 3, 1, 3, 1, 3, 1, 1,\n",
       "       2, 0, 2, 2, 3, 1, 3, 2, 2, 0, 2, 1, 1, 3, 2, 2, 1, 3, 1, 1, 2, 0,\n",
       "       2, 0, 2, 3, 2, 1, 1, 2, 1, 2, 1, 2, 2, 3, 0, 0, 0, 1, 2, 0, 1, 0,\n",
       "       3, 1, 0, 1, 0, 3, 0, 1, 0, 1, 2, 0, 0, 1, 0, 2, 1, 1, 2, 0, 3, 2,\n",
       "       3, 2, 0, 1, 3, 2, 1, 1, 2, 0, 3, 1, 0, 3, 2, 0, 3, 3, 2, 2, 0, 3,\n",
       "       3, 2, 0, 3, 0, 2, 3, 0, 1, 1, 1, 0, 2, 1, 1, 2, 3, 2, 3, 3, 3, 2,\n",
       "       2, 0, 2, 1, 3, 2, 2, 3, 2, 3, 0, 1, 1, 0, 0, 3, 0, 3, 0, 1, 2, 1,\n",
       "       1, 2, 3, 3, 0, 3, 0, 0, 0, 3, 1, 0, 1, 2, 2, 3, 0, 3, 0, 3, 2, 3,\n",
       "       3, 0, 1, 1, 0, 0, 3, 2, 1, 2, 0, 0, 0, 2, 0, 0, 2, 1, 2, 3, 3, 1,\n",
       "       0, 2])"
      ]
     },
     "execution_count": 28,
     "metadata": {},
     "output_type": "execute_result"
    }
   ],
   "source": [
    "model.labels_"
   ]
  },
  {
   "cell_type": "code",
   "execution_count": 29,
   "id": "3e0a7f50",
   "metadata": {},
   "outputs": [
    {
     "data": {
      "text/plain": [
       "array([2, 2, 2, 2, 1, 2, 3, 3, 1, 1, 0, 1, 1, 1, 1, 1, 2, 1, 2, 1, 2, 2,\n",
       "       0, 3, 0, 0, 1, 2, 1, 0, 0, 3, 0, 2, 2, 1, 0, 0, 2, 1, 2, 2, 0, 3,\n",
       "       0, 3, 0, 1, 0, 2, 2, 0, 2, 0, 2, 0, 0, 1, 3, 3, 3, 2, 0, 3, 2, 3,\n",
       "       1, 2, 3, 2, 3, 1, 3, 2, 3, 2, 0, 3, 3, 2, 3, 0, 2, 2, 0, 3, 1, 0,\n",
       "       1, 0, 3, 2, 1, 0, 2, 2, 0, 3, 1, 2, 3, 1, 0, 3, 1, 1, 0, 0, 3, 1,\n",
       "       1, 0, 3, 1, 3, 0, 1, 3, 2, 2, 2, 3, 0, 2, 2, 0, 1, 0, 1, 1, 1, 0,\n",
       "       0, 3, 0, 2, 1, 0, 0, 1, 0, 1, 3, 2, 2, 3, 3, 1, 3, 1, 3, 2, 0, 2,\n",
       "       2, 0, 1, 1, 3, 1, 3, 3, 3, 1, 2, 3, 2, 0, 0, 1, 3, 1, 3, 1, 0, 1,\n",
       "       1, 3, 2, 2, 3, 3, 1, 0, 2, 0, 3, 3, 3, 0, 3, 3, 0, 2, 0, 1, 1, 2,\n",
       "       3, 0])"
      ]
     },
     "execution_count": 29,
     "metadata": {},
     "output_type": "execute_result"
    }
   ],
   "source": [
    "data[1]"
   ]
  },
  {
   "cell_type": "code",
   "execution_count": 30,
   "id": "4423c5fc",
   "metadata": {},
   "outputs": [
    {
     "data": {
      "text/plain": [
       "<AxesSubplot:>"
      ]
     },
     "execution_count": 30,
     "metadata": {},
     "output_type": "execute_result"
    },
    {
     "data": {
      "image/png": "[encoded data removed]",
      "text/plain": [
       "<Figure size 432x288 with 1 Axes>"
      ]
     },
     "metadata": {
      "needs_background": "light"
     },
     "output_type": "display_data"
    }
   ],
   "source": [
    "sns.scatterplot(x=data[0][:,0], y=data[0][:,1], hue= data[1], palette='Set2')"
   ]
  },
  {
   "cell_type": "code",
   "execution_count": 31,
   "id": "7dca6cce",
   "metadata": {},
   "outputs": [
    {
     "data": {
      "text/plain": [
       "<AxesSubplot:>"
      ]
     },
     "execution_count": 31,
     "metadata": {},
     "output_type": "execute_result"
    },
    {
     "data": {
      "image/png": "[encoded data removed]",
      "text/plain": [
       "<Figure size 432x288 with 1 Axes>"
      ]
     },
     "metadata": {
      "needs_background": "light"
     },
     "output_type": "display_data"
    }
   ],
   "source": [
    "sns.scatterplot(x=data[0][:,0], y=data[0][:,1], hue= model.labels_, palette='Set2')"
   ]
  },
  {
   "cell_type": "code",
   "execution_count": 32,
   "id": "c5400bb9",
   "metadata": {},
   "outputs": [],
   "source": [
    "model = KMeans(n_clusters =3)"
   ]
  },
  {
   "cell_type": "code",
   "execution_count": 33,
   "id": "afc21181",
   "metadata": {},
   "outputs": [
    {
     "data": {
      "text/plain": [
       "KMeans(n_clusters=3)"
      ]
     },
     "execution_count": 33,
     "metadata": {},
     "output_type": "execute_result"
    }
   ],
   "source": [
    "model.fit(data[0])"
   ]
  },
  {
   "cell_type": "code",
   "execution_count": 34,
   "id": "64c248ac",
   "metadata": {},
   "outputs": [
    {
     "data": {
      "text/plain": [
       "<AxesSubplot:>"
      ]
     },
     "execution_count": 34,
     "metadata": {},
     "output_type": "execute_result"
    },
    {
     "data": {
      "image/png": "[encoded data removed]",
      "text/plain": [
       "<Figure size 432x288 with 1 Axes>"
      ]
     },
     "metadata": {
      "needs_background": "light"
     },
     "output_type": "display_data"
    }
   ],
   "source": [
    "sns.scatterplot(x=data[0][:,0], y=data[0][:,1], hue= model.labels_, palette='Set2')"
   ]
  },
  {
   "cell_type": "code",
   "execution_count": 35,
   "id": "639ccc21",
   "metadata": {},
   "outputs": [
    {
     "data": {
      "text/plain": [
       "<AxesSubplot:>"
      ]
     },
     "execution_count": 35,
     "metadata": {},
     "output_type": "execute_result"
    },
    {
     "data": {
      "image/png": "[encoded data removed]",
      "text/plain": [
       "<Figure size 432x288 with 1 Axes>"
      ]
     },
     "metadata": {
      "needs_background": "light"
     },
     "output_type": "display_data"
    }
   ],
   "source": [
    "model = KMeans(n_clusters =5)\n",
    "model.fit(data[0])\n",
    "sns.scatterplot(x=data[0][:,0], y=data[0][:,1], hue= model.labels_, palette='Set2')"
   ]
  },
  {
   "cell_type": "code",
   "execution_count": 37,
   "id": "ad25a0f3",
   "metadata": {},
   "outputs": [
    {
     "data": {
      "text/plain": [
       "377.0923630431555"
      ]
     },
     "execution_count": 37,
     "metadata": {},
     "output_type": "execute_result"
    }
   ],
   "source": [
    "model.inertia_"
   ]
  },
  {
   "cell_type": "code",
   "execution_count": 40,
   "id": "6163c8a4",
   "metadata": {},
   "outputs": [],
   "source": [
    "distance = []\n",
    "for i in range(2, 11):\n",
    "    model = KMeans(n_clusters =i)\n",
    "    model.fit(data[0])\n",
    "    distance.append(model.inertia_)"
   ]
  },
  {
   "cell_type": "code",
   "execution_count": 41,
   "id": "1a0f355c",
   "metadata": {},
   "outputs": [
    {
     "data": {
      "text/plain": [
       "[3855.3908583820526,\n",
       " 967.5329197924485,\n",
       " 428.6910143243812,\n",
       " 377.0923630431555,\n",
       " 330.8526632471694,\n",
       " 302.2785484894927,\n",
       " 269.6629305948995,\n",
       " 241.91928073702698,\n",
       " 212.5954368950558]"
      ]
     },
     "execution_count": 41,
     "metadata": {},
     "output_type": "execute_result"
    }
   ],
   "source": [
    "distance #n_clusters 커질수록 model.inertia_ 작아진다"
   ]
  },
  {
   "cell_type": "code",
   "execution_count": 42,
   "id": "5309cc8c",
   "metadata": {},
   "outputs": [
    {
     "data": {
      "text/plain": [
       "<AxesSubplot:>"
      ]
     },
     "execution_count": 42,
     "metadata": {},
     "output_type": "execute_result"
    },
    {
     "data": {
      "image/png": "[encoded data removed]",
      "text/plain": [
       "<Figure size 432x288 with 1 Axes>"
      ]
     },
     "metadata": {
      "needs_background": "light"
     },
     "output_type": "display_data"
    }
   ],
   "source": [
    "sns.lineplot(x=list(range(2,11)),y=distance)"
   ]
  },
  {
   "cell_type": "markdown",
   "id": "76736090",
   "metadata": {},
   "source": [
    "- 2에서 3으로 갈때 inertia_ 작아짐 (굉장히 효율이 좋다)\n",
    "- 4 이상은 별로 차이가 없으므로 4가 제일 효율적이다"
   ]
  }
 ],
 "metadata": {
  "kernelspec": {
   "display_name": "Python 3",
   "language": "python",
   "name": "python3"
  },
  "language_info": {
   "codemirror_mode": {
    "name": "ipython",
    "version": 3
   },
   "file_extension": ".py",
   "mimetype": "text/x-python",
   "name": "python",
   "nbconvert_exporter": "python",
   "pygments_lexer": "ipython3",
   "version": "3.8.5"
  },
  "toc": {
   "base_numbering": 1,
   "nav_menu": {},
   "number_sections": true,
   "sideBar": true,
   "skip_h1_title": false,
   "title_cell": "Table of Contents",
   "title_sidebar": "Contents",
   "toc_cell": false,
   "toc_position": {},
   "toc_section_display": true,
   "toc_window_display": false
  }
 },
 "nbformat": 4,
 "nbformat_minor": 5
}
