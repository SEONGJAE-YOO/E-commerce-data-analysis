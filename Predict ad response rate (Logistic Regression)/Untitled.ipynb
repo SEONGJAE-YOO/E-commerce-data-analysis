{
 "cells": [
  {
   "cell_type": "code",
   "execution_count": 1,
   "metadata": {},
   "outputs": [],
   "source": [
    "#데이터 처리 모듈\n",
    "import pandas as pd\n",
    "import numpy as np\n",
    "\n",
    "#시각화 담당하는 모듈\n",
    "import matplotlib.pyplot as plt\n",
    "import seaborn as sns"
   ]
  },
  {
   "cell_type": "code",
   "execution_count": 2,
   "metadata": {},
   "outputs": [],
   "source": [
    "data  = pd.read_csv('advertising.csv')"
   ]
  },
  {
   "cell_type": "code",
   "execution_count": 3,
   "metadata": {},
   "outputs": [
    {
     "data": {
      "text/plain": [
       "237"
      ]
     },
     "execution_count": 3,
     "metadata": {},
     "output_type": "execute_result"
    }
   ],
   "source": [
    "data['Country'].nunique()"
   ]
  },
  {
   "cell_type": "code",
   "execution_count": 4,
   "metadata": {},
   "outputs": [
    {
     "data": {
      "text/plain": [
       "array(['Tunisia', 'Nauru', 'San Marino', 'Italy', 'Iceland', 'Norway',\n",
       "       'Myanmar', 'Australia', 'Grenada', 'Ghana', 'Qatar', 'Burundi',\n",
       "       'Egypt', 'Bosnia and Herzegovina', 'Barbados', 'Spain',\n",
       "       'Palestinian Territory', 'Afghanistan',\n",
       "       'British Indian Ocean Territory (Chagos Archipelago)',\n",
       "       'Russian Federation', 'Cameroon', 'Korea', 'Tokelau', 'Monaco',\n",
       "       'Tuvalu', 'Greece', 'British Virgin Islands',\n",
       "       'Bouvet Island (Bouvetoya)', 'Peru', 'Aruba', 'Maldives',\n",
       "       'Senegal', 'Dominica', 'Luxembourg', 'Montenegro', 'Ukraine',\n",
       "       'Saint Helena', 'Liberia', 'Turkmenistan', 'Niger', 'Sri Lanka',\n",
       "       'Trinidad and Tobago', 'United Kingdom', 'Guinea-Bissau',\n",
       "       'Micronesia', 'Turkey', 'Croatia', 'Israel',\n",
       "       'Svalbard & Jan Mayen Islands', 'Azerbaijan', 'Iran',\n",
       "       'Saint Vincent and the Grenadines', 'Bulgaria', 'Christmas Island',\n",
       "       'Canada', 'Rwanda', 'Turks and Caicos Islands', 'Norfolk Island',\n",
       "       'Cook Islands', 'Guatemala', \"Cote d'Ivoire\", 'Faroe Islands',\n",
       "       'Ireland', 'Moldova', 'Nicaragua', 'Montserrat', 'Timor-Leste',\n",
       "       'Puerto Rico', 'Central African Republic', 'Venezuela',\n",
       "       'Wallis and Futuna', 'Jersey', 'Samoa',\n",
       "       'Antarctica (the territory South of 60 deg S)', 'Albania',\n",
       "       'Hong Kong', 'Lithuania', 'Bangladesh', 'Western Sahara', 'Serbia',\n",
       "       'Czech Republic', 'Guernsey', 'Tanzania', 'Bhutan', 'Guinea',\n",
       "       'Madagascar', 'Lebanon', 'Eritrea', 'Guyana',\n",
       "       'United Arab Emirates', 'Martinique', 'Somalia', 'Benin',\n",
       "       'Papua New Guinea', 'Uzbekistan', 'South Africa', 'Hungary',\n",
       "       'Falkland Islands (Malvinas)', 'Saint Martin', 'Cuba',\n",
       "       'United States Minor Outlying Islands', 'Belize', 'Kuwait',\n",
       "       'Thailand', 'Gibraltar', 'Holy See (Vatican City State)',\n",
       "       'Netherlands', 'Belarus', 'New Zealand', 'Togo', 'Kenya', 'Palau',\n",
       "       'Cambodia', 'Costa Rica', 'Liechtenstein', 'Angola',\n",
       "       'Equatorial Guinea', 'Mongolia', 'Brazil', 'Chad', 'Portugal',\n",
       "       'Malawi', 'Singapore', 'Kazakhstan', 'China', 'Vietnam', 'Mayotte',\n",
       "       'Jamaica', 'Bahamas', 'Algeria', 'Fiji', 'Argentina',\n",
       "       'Philippines', 'Suriname', 'Guam', 'Antigua and Barbuda',\n",
       "       'Georgia', 'Jordan', 'Saudi Arabia', 'Sao Tome and Principe',\n",
       "       'Cyprus', 'Kyrgyz Republic', 'Pakistan', 'Seychelles',\n",
       "       'Mauritania', 'Chile', 'Poland', 'Estonia', 'Latvia', 'Bahrain',\n",
       "       'Colombia', 'Brunei Darussalam', 'Taiwan',\n",
       "       'Saint Pierre and Miquelon', 'Finland',\n",
       "       'French Southern Territories', 'Sierra Leone', 'Tajikistan',\n",
       "       'Ecuador', 'Switzerland', 'France', 'Malaysia', 'Mauritius',\n",
       "       'Japan', 'Greenland', 'Guadeloupe', 'Belgium', 'Honduras',\n",
       "       'Paraguay', 'French Guiana', 'Northern Mariana Islands',\n",
       "       'American Samoa', 'Austria', 'Tonga', 'New Caledonia',\n",
       "       'United States of America', 'Morocco', 'Macedonia', 'Gabon',\n",
       "       'Uganda', 'Saint Lucia', 'Niue', 'Zambia', 'Congo',\n",
       "       'Pitcairn Islands', 'Anguilla', 'Sweden', 'Indonesia', 'Mexico',\n",
       "       'Haiti', 'Gambia', 'El Salvador', 'Libyan Arab Jamahiriya',\n",
       "       'Saint Barthelemy', 'Reunion', 'Panama', 'Dominican Republic',\n",
       "       'Zimbabwe', 'Swaziland', 'Saint Kitts and Nevis', 'Burkina Faso',\n",
       "       'Heard Island and McDonald Islands', 'Bolivia',\n",
       "       'Netherlands Antilles', 'French Polynesia', 'Germany', 'Malta',\n",
       "       'Sudan', \"Lao People's Democratic Republic\", 'Isle of Man',\n",
       "       'Macao', 'United States Virgin Islands', 'Djibouti', 'Mali',\n",
       "       'Romania', 'Cayman Islands', 'Ethiopia', 'Uruguay', 'Comoros',\n",
       "       'Vanuatu', 'Nepal', 'Yemen', 'India', 'Cape Verde', 'Slovenia',\n",
       "       'Denmark', 'Syrian Arab Republic', 'Andorra', 'Namibia',\n",
       "       'Slovakia (Slovak Republic)', 'Armenia',\n",
       "       'South Georgia and the South Sandwich Islands', 'Kiribati',\n",
       "       'Marshall Islands', 'Bermuda', 'Mozambique', 'Lesotho'],\n",
       "      dtype=object)"
      ]
     },
     "execution_count": 4,
     "metadata": {},
     "output_type": "execute_result"
    }
   ],
   "source": [
    "data['Country'].unique()"
   ]
  },
  {
   "cell_type": "code",
   "execution_count": 6,
   "metadata": {},
   "outputs": [
    {
     "data": {
      "text/plain": [
       "France                    9\n",
       "Czech Republic            9\n",
       "Australia                 8\n",
       "Turkey                    8\n",
       "South Africa              8\n",
       "Micronesia                8\n",
       "Afghanistan               8\n",
       "Greece                    8\n",
       "Senegal                   8\n",
       "Liberia                   8\n",
       "Cyprus                    8\n",
       "Peru                      8\n",
       "Venezuela                 7\n",
       "Luxembourg                7\n",
       "Western Sahara            7\n",
       "Eritrea                   7\n",
       "Ethiopia                  7\n",
       "Cambodia                  7\n",
       "Albania                   7\n",
       "Burundi                   7\n",
       "Bosnia and Herzegovina    7\n",
       "Fiji                      7\n",
       "Bahamas                   7\n",
       "Taiwan                    7\n",
       "Gabon                     6\n",
       "Costa Rica                6\n",
       "Zimbabwe                  6\n",
       "Hong Kong                 6\n",
       "Bolivia                   6\n",
       "Philippines               6\n",
       "Name: Country, dtype: int64"
      ]
     },
     "execution_count": 6,
     "metadata": {},
     "output_type": "execute_result"
    }
   ],
   "source": [
    "data['Country'].value_counts().head(30)"
   ]
  },
  {
   "cell_type": "code",
   "execution_count": null,
   "metadata": {},
   "outputs": [],
   "source": []
  }
 ],
 "metadata": {
  "kernelspec": {
   "display_name": "Python 3",
   "language": "python",
   "name": "python3"
  },
  "language_info": {
   "codemirror_mode": {
    "name": "ipython",
    "version": 3
   },
   "file_extension": ".py",
   "mimetype": "text/x-python",
   "name": "python",
   "nbconvert_exporter": "python",
   "pygments_lexer": "ipython3",
   "version": "3.8.5"
  },
  "toc": {
   "base_numbering": 1,
   "nav_menu": {},
   "number_sections": true,
   "sideBar": true,
   "skip_h1_title": false,
   "title_cell": "Table of Contents",
   "title_sidebar": "Contents",
   "toc_cell": false,
   "toc_position": {},
   "toc_section_display": true,
   "toc_window_display": false
  }
 },
 "nbformat": 4,
 "nbformat_minor": 4
}
